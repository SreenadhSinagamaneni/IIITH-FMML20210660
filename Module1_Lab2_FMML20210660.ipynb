{
  "nbformat": 4,
  "nbformat_minor": 0,
  "metadata": {
    "colab": {
      "name": "Lab2_Features_FMML20210660.ipynb",
      "provenance": [],
      "collapsed_sections": [
        "PnYvkAZLQY7h",
        "33GIn4x5VH-d"
      ],
      "include_colab_link": true
    },
    "kernelspec": {
      "name": "python3",
      "display_name": "Python 3"
    },
    "language_info": {
      "name": "python"
    }
  },
  "cells": [
    {
      "cell_type": "markdown",
      "metadata": {
        "id": "view-in-github",
        "colab_type": "text"
      },
      "source": [
        "<a href=\"https://colab.research.google.com/github/SreenadhSingamaneni/IIITH-FMML20210660/blob/main/Module1_Lab2_FMML20210660.ipynb\" target=\"_parent\"><img src=\"https://colab.research.google.com/assets/colab-badge.svg\" alt=\"Open In Colab\"/></a>"
      ]
    },
    {
      "cell_type": "markdown",
      "metadata": {
        "id": "3Eu9VZbF01eq"
      },
      "source": [
        "# Machine learning terms and metrics\n",
        "\n",
        "FMML Module 1, Lab 2<br>\n",
        " Module Coordinator: Thrupthi Ann John thrupthi.ann@research.iiit.ac.in <br>\n",
        " Release date: 11 October 2021 Monday <br>\n",
        "\n",
        " In this lab, we will show a part of the ML pipeline by extracting features, training and testing"
      ]
    },
    {
      "cell_type": "code",
      "metadata": {
        "id": "8qBvyEem0vLi"
      },
      "source": [
        "import matplotlib.pyplot as plt\n",
        "import numpy as np\n",
        "from sklearn import datasets\n",
        "# set randomseed\n",
        "rng = np.random.default_rng(seed=42)"
      ],
      "execution_count": null,
      "outputs": []
    },
    {
      "cell_type": "markdown",
      "metadata": {
        "id": "u3t59g5s1HfC"
      },
      "source": [
        "In this lab, we will use the California Housing dataset. There are 20640 samples, each with 8 attributes like income of the block, age of the houses per district etc. The task is to predict the cost of the houses per district. \n",
        "\n",
        "Let us download and examine the dataset. "
      ]
    },
    {
      "cell_type": "code",
      "metadata": {
        "id": "8LpqjN991GGJ",
        "colab": {
          "base_uri": "https://localhost:8080/"
        },
        "outputId": "3ccfbd54-09d7-4b15-9f0d-d1175295d64d"
      },
      "source": [
        " dataset =  datasets.fetch_california_housing()\n",
        " # print(dataset.DESCR)  # uncomment this if you want to know more about this dataset\n",
        " # print(dataset.keys())  # if you want to know what else is there in this dataset\n",
        " dataset.target = dataset.target.astype(np.int) # so that we can classify\n",
        " print(dataset.data.shape)\n",
        " print(dataset.target.shape)"
      ],
      "execution_count": null,
      "outputs": [
        {
          "output_type": "stream",
          "name": "stdout",
          "text": [
            "(20640, 8)\n",
            "(20640,)\n"
          ]
        }
      ]
    },
    {
      "cell_type": "markdown",
      "metadata": {
        "id": "iNx4174W5xRg"
      },
      "source": [
        "Here is a function for calculating the 1-nearest neighbours"
      ]
    },
    {
      "cell_type": "code",
      "metadata": {
        "id": "07zpydQj1hIQ"
      },
      "source": [
        "def NN1(traindata, trainlabel, query):\n",
        "  diff  = traindata - query  # find the difference between features. Numpy automatically takes care of the size here \n",
        "  sq = diff*diff # square the differences\n",
        "  dist = sq.sum(1) # add up the squares\n",
        "  label = trainlabel[np.argmin(dist)] # our predicted label is the label of the training data which has the least distance from the query\n",
        "  return label\n",
        "\n",
        "def NN(traindata, trainlabel, testdata):\n",
        "  # we will run nearest neighbour for each sample in the test data \n",
        "  # and collect the predicted classes in an array using list comprehension\n",
        "  predlabel = np.array([NN1(traindata, trainlabel, i) for i in testdata])\n",
        "  return predlabel\n"
      ],
      "execution_count": null,
      "outputs": []
    },
    {
      "cell_type": "markdown",
      "metadata": {
        "id": "03JktkfIGaje"
      },
      "source": [
        "We will also define a 'random classifier', which randomly allots labels to each sample"
      ]
    },
    {
      "cell_type": "code",
      "metadata": {
        "id": "fogWAtjyGhAH"
      },
      "source": [
        "def RandomClassifier(traindata, trainlabel, testdata):\n",
        "  # in reality, we don't need these arguments\n",
        "\n",
        "  classes = np.unique(trainlabel)\n",
        "  rints = rng.integers(low=0, high=len(classes), size=len(testdata))\n",
        "  predlabel = classes[rints]\n",
        "  return predlabel\n"
      ],
      "execution_count": null,
      "outputs": []
    },
    {
      "cell_type": "markdown",
      "metadata": {
        "id": "1Hjf1KHs7fU5"
      },
      "source": [
        "Let us define a metric 'Accuracy' to see how good our learning algorithm is. Accuracy is the ratio of the number of correctly classified samples to the total number of samples. The higher the accuracy, the better the algorithm. "
      ]
    },
    {
      "cell_type": "code",
      "metadata": {
        "id": "ouuCqWU07bz-"
      },
      "source": [
        "def Accuracy(gtlabel, predlabel):\n",
        "  assert len(gtlabel)==len(predlabel), \"Length of the groundtruth labels and predicted labels should be the same\"\n",
        "  correct = (gtlabel==predlabel).sum() # count the number of times the groundtruth label is equal to the predicted label.\n",
        "  return correct/len(gtlabel)"
      ],
      "execution_count": null,
      "outputs": []
    },
    {
      "cell_type": "markdown",
      "metadata": {
        "id": "4vJFwBFa9Klw"
      },
      "source": [
        "Let us make a function to split the dataset with the desired probability."
      ]
    },
    {
      "cell_type": "code",
      "metadata": {
        "id": "Ko0VzpSM2Tdi"
      },
      "source": [
        "def split(data, label, percent):\n",
        "  # generate a random number for each sample\n",
        "  rnd = rng.random(len(label))\n",
        "  split1 = rnd<percent\n",
        "  split2 = rnd>=percent\n",
        "  split1data = data[split1,:]\n",
        "  split1label = label[split1]\n",
        "  split2data = data[split2,:]\n",
        "  split2label = label[split2]\n",
        "  return split1data, split1label, split2data, split2label"
      ],
      "execution_count": null,
      "outputs": []
    },
    {
      "cell_type": "markdown",
      "metadata": {
        "id": "AcK3LEAJ_LGC"
      },
      "source": [
        "We will reserve 20% of our dataset as the test set. We will not change this portion throughout our experiments"
      ]
    },
    {
      "cell_type": "code",
      "metadata": {
        "id": "bBZkHBLJ1iU-",
        "colab": {
          "base_uri": "https://localhost:8080/"
        },
        "outputId": "bcdc13b8-4f43-4949-8748-00ac53a97401"
      },
      "source": [
        "testdata, testlabel, alltraindata, alltrainlabel = split(dataset.data, dataset.target, 20/100)\n",
        "print('Number of test samples = ', len(testlabel))\n",
        "print('Number of other samples = ', len(alltrainlabel))\n",
        "print('Percent of test data = ', len(testlabel)*100/len(dataset.target),'%')"
      ],
      "execution_count": null,
      "outputs": [
        {
          "output_type": "stream",
          "name": "stdout",
          "text": [
            "Number of test samples =  4144\n",
            "Number of other samples =  16496\n",
            "Percent of test data =  20.07751937984496 %\n"
          ]
        }
      ]
    },
    {
      "cell_type": "markdown",
      "metadata": {
        "id": "a6Ss0Z6IAGNV"
      },
      "source": [
        "## Experiments with splits\n",
        "\n",
        "Let us reserve some of our train data as a validation set"
      ]
    },
    {
      "cell_type": "code",
      "metadata": {
        "id": "WFew2iry_7W7",
        "colab": {
          "base_uri": "https://localhost:8080/"
        },
        "outputId": "113709b4-b4f4-4c30-9d02-1ebb7cbfefd1"
      },
      "source": [
        "traindata, trainlabel, valdata, vallabel = split(alltraindata, alltrainlabel, 75/100)\n",
        "trainpred = NN(traindata, trainlabel, traindata)\n",
        "trainAccuracy = Accuracy(trainlabel, trainpred)\n",
        "print(\"Train accuracy using nearest neighbour is \", trainAccuracy)\n",
        "trainpred = RandomClassifier(traindata, trainlabel, traindata)\n",
        "trainAccuracy = Accuracy(trainlabel, trainpred)\n",
        "print(\"Train accuracy using random classifier is \", trainAccuracy)"
      ],
      "execution_count": null,
      "outputs": [
        {
          "output_type": "stream",
          "name": "stdout",
          "text": [
            "Train accuracy using nearest neighbour is  1.0\n",
            "Train accuracy using random classifier is  0.164375808538163\n"
          ]
        }
      ]
    },
    {
      "cell_type": "markdown",
      "metadata": {
        "id": "60hiu4clFN1i"
      },
      "source": [
        "What is the accuracy of our classifiers on the train dataset?"
      ]
    },
    {
      "cell_type": "code",
      "metadata": {
        "id": "DBlZDTHUFTZx",
        "colab": {
          "base_uri": "https://localhost:8080/"
        },
        "outputId": "e1eab12b-96d0-4622-a430-6dee18fdbe70"
      },
      "source": [
        "trainpred = NN(traindata, trainlabel, traindata)\n",
        "trainAccuracy = Accuracy(trainlabel, trainpred)\n",
        "print(\"Train accuracy using nearest neighbour is \", trainAccuracy)\n",
        "\n",
        "trainpred = RandomClassifier(traindata, trainlabel, traindata)\n",
        "trainAccuracy = Accuracy(trainlabel, trainpred)\n",
        "print(\"Train accuracy using random classifier is \", trainAccuracy)"
      ],
      "execution_count": null,
      "outputs": [
        {
          "output_type": "stream",
          "name": "stdout",
          "text": [
            "Train accuracy using nearest neighbour is  1.0\n",
            "Train accuracy using random classifier is  0.17205692108667528\n"
          ]
        }
      ]
    },
    {
      "cell_type": "markdown",
      "metadata": {
        "id": "7h08-9gJDtSy"
      },
      "source": [
        "For nearest neighbour, the train accuracy is always 1. The accuracy of the random classifier is close to 1/(number of classes) which is 0.1666 in our case.\n",
        "\n",
        "Let us predict the labels for our validation set and get the accuracy"
      ]
    },
    {
      "cell_type": "code",
      "metadata": {
        "id": "4h7bXoW_2H3v",
        "colab": {
          "base_uri": "https://localhost:8080/"
        },
        "outputId": "bf2ea474-5c28-44e1-b49c-630dcfd3c7a4"
      },
      "source": [
        "valpred = NN(traindata, trainlabel, valdata)\n",
        "valAccuracy = Accuracy(vallabel, valpred)\n",
        "print(\"Validation accuracy using nearest neighbour is \", valAccuracy)\n",
        "\n",
        "valpred = RandomClassifier(traindata, trainlabel, valdata)\n",
        "valAccuracy = Accuracy(vallabel, valpred)\n",
        "print(\"Validation accuracy using random classifier is \", valAccuracy)"
      ],
      "execution_count": null,
      "outputs": [
        {
          "output_type": "stream",
          "name": "stdout",
          "text": [
            "Validation accuracy using nearest neighbour is  0.34108527131782945\n",
            "Validation accuracy using random classifier is  0.1686046511627907\n"
          ]
        }
      ]
    },
    {
      "cell_type": "markdown",
      "metadata": {
        "id": "py9bLguFEjfg"
      },
      "source": [
        "Validation accuracy of nearest neighbour is considerably less than its train accuracy while the validation accuracy of random classifier is the same. However, the validation accuracy of nearest neighbour is twice that of the random classifier. \n",
        "\n",
        "Now let us try another random split and check the validation accuracy"
      ]
    },
    {
      "cell_type": "code",
      "metadata": {
        "id": "ujm3cyYzEntE",
        "colab": {
          "base_uri": "https://localhost:8080/"
        },
        "outputId": "abf584ae-efe8-48d5-db03-9a3a59af81d9"
      },
      "source": [
        "\n",
        "traindata, trainlabel, valdata, vallabel = split(alltraindata, alltrainlabel, 50/100)\n",
        "valpred = NN(traindata, trainlabel, valdata)\n",
        "valAccuracy = Accuracy(vallabel, valpred)\n",
        "print(\"Validation accuracy of nearest neighbour is \", valAccuracy)"
      ],
      "execution_count": null,
      "outputs": [
        {
          "output_type": "stream",
          "name": "stdout",
          "text": [
            "Validation accuracy of nearest neighbour is  0.32831836932783304\n"
          ]
        }
      ]
    },
    {
      "cell_type": "markdown",
      "metadata": {
        "id": "oSOx7U83EKie"
      },
      "source": [
        "You can run the above cell multiple times to try with different random splits. \n",
        "We notice that the accuracy is different for each run, but close together. \n",
        "\n",
        "Now let us compare it with the accuracy we get on the test dataset. "
      ]
    },
    {
      "cell_type": "code",
      "metadata": {
        "id": "PNEZ5ToYBEDW",
        "colab": {
          "base_uri": "https://localhost:8080/"
        },
        "outputId": "83376d41-2e9d-4093-beea-3e7f925ce099"
      },
      "source": [
        "testpred = NN(alltraindata, alltrainlabel, testdata)\n",
        "testAccuracy = Accuracy(testlabel, testpred)\n",
        "print('Test accuracy is ', testAccuracy)"
      ],
      "execution_count": null,
      "outputs": [
        {
          "output_type": "stream",
          "name": "stdout",
          "text": [
            "Test accuracy is  0.34917953667953666\n"
          ]
        }
      ]
    },
    {
      "cell_type": "markdown",
      "metadata": {
        "id": "w3dGD531K3gH"
      },
      "source": [
        "### Try it out for yourself and answer:\n",
        "1. How is the accuracy of the validation set affected if we increase the percentage of validation set? What happens when we reduce it?\n",
        "2. How does the size of the train and validation set affect how well we can predict the accuracy on the test set using the validation set?\n",
        "3. What do you think is a good percentage to reserve for the validation set so that thest two factors are balanced? \n",
        "\n",
        "Answer for both nearest neighbour and random classifier. You can note down the values for your experiments and plot a graph using  <a href=https://matplotlib.org/stable/gallery/lines_bars_and_markers/step_demo.html#sphx-glr-gallery-lines-bars-and-markers-step-demo-py>plt.plot<href>. Check also for extreme values for splits, like 99.9% or 0.1%"
      ]
    },
    {
      "cell_type": "markdown",
      "metadata": {
        "id": "0r4Xr9_h8ose"
      },
      "source": [
        "**NOTE**: if you wish to run and check the codes i wrote please wait for sometime as the code is using more data, it's taking time ) "
      ]
    },
    {
      "cell_type": "markdown",
      "metadata": {
        "id": "ZjpAjKTykTZ3"
      },
      "source": [
        "**ANSWERS**"
      ]
    },
    {
      "cell_type": "markdown",
      "metadata": {
        "id": "u3GTLEyVyHPU"
      },
      "source": [
        "I tried to answer the questions both theoretically and using code after my research "
      ]
    },
    {
      "cell_type": "markdown",
      "metadata": {
        "id": "Xe7unqyh3u-B"
      },
      "source": [
        "**1st answer**:  As the validation percentage increases the random classifier accuracy remains almost same  where as the nearest nieghbour (nn) accuracy decreases. so when we decrease the validation percentage the accuracy increases . you can find the code regarding that below "
      ]
    },
    {
      "cell_type": "code",
      "metadata": {
        "colab": {
          "base_uri": "https://localhost:8080/"
        },
        "id": "aYuVLZEwcwSI",
        "outputId": "ec79b72f-6a95-4b46-c94b-61567c455e59"
      },
      "source": [
        "a= [10,20,30,40,50,60,70,80,90]\n",
        "axaxis=[]\n",
        "ayaxis=[]\n",
        "for ii in a:\n",
        "  traindata, trainlabel, valdata, vallabel = split(alltraindata, alltrainlabel, ii/100)\n",
        "  valpred = NN(traindata, trainlabel, valdata)\n",
        "  valAccuracy = Accuracy(vallabel, valpred)\n",
        "  print(\"Validation accuracy of nearest neighbour is when val is\", 100-ii ,\"percent \", valAccuracy)\n",
        "  ayaxis.append(valAccuracy)\n",
        "  axaxis.append(100-ii)\n",
        "print(\"\")\n",
        "for ii in a:\n",
        "  traindata, trainlabel, valdata, vallabel = split(alltraindata, alltrainlabel, ii/100)\n",
        "  valpred = RandomClassifier(traindata, trainlabel, valdata)\n",
        "  valAccuracy = Accuracy(vallabel, valpred)\n",
        "  print(\"Validation accuracy of random classifier is when val is\", 100-ii ,\"percent \", valAccuracy)\n",
        "    "
      ],
      "execution_count": null,
      "outputs": [
        {
          "output_type": "stream",
          "name": "stdout",
          "text": [
            "Validation accuracy of nearest neighbour is when val is 90 percent  0.2927930964740781\n",
            "Validation accuracy of nearest neighbour is when val is 80 percent  0.31553324205081396\n",
            "Validation accuracy of nearest neighbour is when val is 70 percent  0.31985038274182326\n",
            "Validation accuracy of nearest neighbour is when val is 60 percent  0.32350276799194766\n",
            "Validation accuracy of nearest neighbour is when val is 50 percent  0.3264600715137068\n",
            "Validation accuracy of nearest neighbour is when val is 40 percent  0.33055812519272276\n",
            "Validation accuracy of nearest neighbour is when val is 30 percent  0.3445034736411933\n",
            "Validation accuracy of nearest neighbour is when val is 20 percent  0.33582983822648294\n",
            "Validation accuracy of nearest neighbour is when val is 10 percent  0.3516209476309227\n",
            "\n",
            "Validation accuracy of random classifier is when val is 90 percent  0.16176768700587876\n",
            "Validation accuracy of random classifier is when val is 80 percent  0.16184971098265896\n",
            "Validation accuracy of random classifier is when val is 70 percent  0.1646266829865361\n",
            "Validation accuracy of random classifier is when val is 60 percent  0.1659056316590563\n",
            "Validation accuracy of random classifier is when val is 50 percent  0.1673960612691466\n",
            "Validation accuracy of random classifier is when val is 40 percent  0.1645703894529474\n",
            "Validation accuracy of random classifier is when val is 30 percent  0.1599920697858842\n",
            "Validation accuracy of random classifier is when val is 20 percent  0.17273831208257437\n",
            "Validation accuracy of random classifier is when val is 10 percent  0.16575922565033274\n"
          ]
        }
      ]
    },
    {
      "cell_type": "markdown",
      "metadata": {
        "id": "efxNCSqPNDrc"
      },
      "source": [
        "**2 answer**: even thought the train data increases the accuracy remains same(that can be found from below code) \n",
        "where as increase in validation data result in decrease of NN accuracy(that can be found from above code)  \n",
        "the test accuracy remains constant even when we alter the train percentage(you can find code regarding that below) "
      ]
    },
    {
      "cell_type": "code",
      "metadata": {
        "colab": {
          "base_uri": "https://localhost:8080/"
        },
        "id": "mkZGsykBSTH3",
        "outputId": "b4720963-ccac-49bf-d489-ab75c968eae9"
      },
      "source": [
        "a= [10,20,30,40,50,60,70,80,90]\n",
        "for ii in a:\n",
        "  traindata, trainlabel, valdata, vallabel = split(alltraindata, alltrainlabel, ii/100)\n",
        "  trainpred = NN(traindata, trainlabel, traindata)\n",
        "  trainAccuracy = Accuracy(trainlabel, trainpred)\n",
        "  print(\"Train accuracy using nearest neighbour is when traindata is\" ,ii ,\"percent  \", trainAccuracy)\n",
        "  trainpred = RandomClassifier(traindata, trainlabel, traindata)\n",
        "  trainAccuracy = Accuracy(trainlabel, trainpred)\n",
        "  print(\"Train accuracy using random classifier is when traindata is\" ,ii ,\"percent  \", trainAccuracy)\n",
        "  print(\"\")"
      ],
      "execution_count": null,
      "outputs": [
        {
          "output_type": "stream",
          "name": "stdout",
          "text": [
            "Train accuracy using nearest neighbour is when traindata is 10 percent   1.0\n",
            "Train accuracy using random classifier is when traindata is 10 percent   0.1626360338573156\n",
            "\n",
            "Train accuracy using nearest neighbour is when traindata is 20 percent   1.0\n",
            "Train accuracy using random classifier is when traindata is 20 percent   0.16903584672435104\n",
            "\n",
            "Train accuracy using nearest neighbour is when traindata is 30 percent   1.0\n",
            "Train accuracy using random classifier is when traindata is 30 percent   0.16729886204831304\n",
            "\n",
            "Train accuracy using nearest neighbour is when traindata is 40 percent   1.0\n",
            "Train accuracy using random classifier is when traindata is 40 percent   0.17221374045801527\n",
            "\n",
            "Train accuracy using nearest neighbour is when traindata is 50 percent   1.0\n",
            "Train accuracy using random classifier is when traindata is 50 percent   0.16585246702491452\n",
            "\n",
            "Train accuracy using nearest neighbour is when traindata is 60 percent   1.0\n",
            "Train accuracy using random classifier is when traindata is 60 percent   0.1664\n",
            "\n",
            "Train accuracy using nearest neighbour is when traindata is 70 percent   1.0\n",
            "Train accuracy using random classifier is when traindata is 70 percent   0.16341906988828267\n",
            "\n",
            "Train accuracy using nearest neighbour is when traindata is 80 percent   1.0\n",
            "Train accuracy using random classifier is when traindata is 80 percent   0.1613464447806354\n",
            "\n",
            "Train accuracy using nearest neighbour is when traindata is 90 percent   1.0\n",
            "Train accuracy using random classifier is when traindata is 90 percent   0.16813563883469018\n",
            "\n"
          ]
        }
      ]
    },
    {
      "cell_type": "code",
      "metadata": {
        "colab": {
          "base_uri": "https://localhost:8080/"
        },
        "id": "t7tyhe5PNU1A",
        "outputId": "948eb2a9-bbb3-4a10-86e1-81dc7ed3d2f2"
      },
      "source": [
        "a= [10,20,30,40,50,60,70,80,90]\n",
        "for ii in a:\n",
        "  traindata, trainlabel, valdata, vallabel = split(alltraindata, alltrainlabel, ii/100)\n",
        "  valpred = NN(traindata, trainlabel, valdata)\n",
        "  valAccuracy = Accuracy(vallabel, valpred)\n",
        "  print(\"Validation accuracy of nearest neighbour is when val is\", 100-ii ,\"percent \", valAccuracy)\n",
        "  testpred = NN(alltraindata, alltrainlabel, testdata)\n",
        "  testAccuracy = Accuracy(testlabel, testpred)\n",
        "  print('Test accuracy is ', testAccuracy) \n",
        "  print(\"\")\n"
      ],
      "execution_count": null,
      "outputs": [
        {
          "output_type": "stream",
          "name": "stdout",
          "text": [
            "Validation accuracy of nearest neighbour is when val is 90 percent  0.29415719760640086\n",
            "Test accuracy is  0.34917953667953666\n",
            "\n",
            "Validation accuracy of nearest neighbour is when val is 80 percent  0.31406521903608986\n",
            "Test accuracy is  0.34917953667953666\n",
            "\n",
            "Validation accuracy of nearest neighbour is when val is 70 percent  0.3198857241797247\n",
            "Test accuracy is  0.34917953667953666\n",
            "\n",
            "Validation accuracy of nearest neighbour is when val is 60 percent  0.31845597104945716\n",
            "Test accuracy is  0.34917953667953666\n",
            "\n",
            "Validation accuracy of nearest neighbour is when val is 50 percent  0.32897286821705424\n",
            "Test accuracy is  0.34917953667953666\n",
            "\n",
            "Validation accuracy of nearest neighbour is when val is 40 percent  0.33460076045627374\n",
            "Test accuracy is  0.34917953667953666\n",
            "\n",
            "Validation accuracy of nearest neighbour is when val is 30 percent  0.34101475641803114\n",
            "Test accuracy is  0.34917953667953666\n",
            "\n",
            "Validation accuracy of nearest neighbour is when val is 20 percent  0.3296330558125193\n",
            "Test accuracy is  0.34917953667953666\n",
            "\n",
            "Validation accuracy of nearest neighbour is when val is 10 percent  0.35548780487804876\n",
            "Test accuracy is  0.34917953667953666\n",
            "\n"
          ]
        }
      ]
    },
    {
      "cell_type": "markdown",
      "metadata": {
        "id": "-QE78iqRUJaE"
      },
      "source": [
        "**3rd answer**:  since the validation accuracy is constant b/w 20-40 % its better to use 20-40% . the graph related to vadlidation can be found below "
      ]
    },
    {
      "cell_type": "code",
      "metadata": {
        "colab": {
          "base_uri": "https://localhost:8080/",
          "height": 312
        },
        "id": "L5MZtWFMUlhn",
        "outputId": "aea296eb-8d6f-43d6-9fe4-de2db92ff0c0"
      },
      "source": [
        "plt.plot(axaxis,ayaxis)\n",
        "plt.xlabel(\" validation percentage\")\n",
        "plt.ylabel(\"validation accuracy\")\n",
        "plt.title(\"validation graph\")\n"
      ],
      "execution_count": null,
      "outputs": [
        {
          "output_type": "execute_result",
          "data": {
            "text/plain": [
              "Text(0.5, 1.0, 'validation graph')"
            ]
          },
          "metadata": {},
          "execution_count": 56
        },
        {
          "output_type": "display_data",
          "data": {
            "image/png": "[encoded data removed]",
            "text/plain": [
              "<Figure size 432x288 with 1 Axes>"
            ]
          },
          "metadata": {
            "needs_background": "light"
          }
        }
      ]
    },
    {
      "cell_type": "markdown",
      "metadata": {
        "id": "PnYvkAZLQY7h"
      },
      "source": [
        "## Multiple Splits\n",
        "\n",
        "One way to get more accurate estimates for the test accuracy is by using <b>crossvalidation</b>. Here, we will try a simple version, where we do multiple train/val splits and take the average of validation accuracies as the test accuracy estimation. Here is a function for doing this. Note that this function will take a long time to execute. "
      ]
    },
    {
      "cell_type": "code",
      "metadata": {
        "id": "E4nGCUQXBTzo"
      },
      "source": [
        "# you can use this function for random classifier also\n",
        "def AverageAccuracy(alldata, alllabel, splitpercent, iterations, classifier=NN):\n",
        "  accuracy = 0\n",
        "  for ii in range(iterations):\n",
        "    traindata, trainlabel, valdata, vallabel = split(alldata, alllabel, splitpercent)\n",
        "    valpred = classifier(traindata, trainlabel, valdata)\n",
        "    accuracy += Accuracy(vallabel, valpred)\n",
        "  return accuracy/iterations # average of all accuracies\n",
        "  "
      ],
      "execution_count": null,
      "outputs": []
    },
    {
      "cell_type": "code",
      "metadata": {
        "id": "H3qtNar7Bbik",
        "colab": {
          "base_uri": "https://localhost:8080/"
        },
        "outputId": "7b3aae61-af2b-4cea-c89a-b4611a87d8bd"
      },
      "source": [
        "print('Average validation accuracy is ', AverageAccuracy(alltraindata, alltrainlabel, 75/100, 20, classifier=NN))\n",
        "testpred = NN(alltraindata, alltrainlabel, testdata)\n",
        "print('test accuracy is ',Accuracy(testlabel, testpred) )"
      ],
      "execution_count": null,
      "outputs": [
        {
          "output_type": "stream",
          "name": "stdout",
          "text": [
            "Average validation accuracy is  0.33981431626689906\n",
            "test accuracy is  0.34917953667953666\n"
          ]
        }
      ]
    },
    {
      "cell_type": "markdown",
      "metadata": {
        "id": "33GIn4x5VH-d"
      },
      "source": [
        "This is a very simple way of doing cross-validation. There are many well-known algorithms for cross-validation, like k-fold cross-validation, leave-one-out etc. This will be covered in detail in a later module. For more information about cross-validation, check <a href=https://en.wikipedia.org/wiki/Cross-validation_(statistics)>Cross-validatioin (Wikipedia)</a>\n",
        "\n",
        "### Questions\n",
        "1. Does averaging the validation accuracy across multiple splits give more consistent results?\n",
        "2. Does it give more accurate estimate of test accuracy?\n",
        "3. What is the effect of the number of iterations on the estimate? Do we get a better estimate with higher iterations?\n",
        "4. Consider the results you got for the previous questions. Can we deal with a very small train dataset or validation dataset by increasing the iterations?\n"
      ]
    },
    {
      "cell_type": "markdown",
      "metadata": {
        "id": "o09HuAi5waF3"
      },
      "source": [
        "**ANSWERS** "
      ]
    },
    {
      "cell_type": "markdown",
      "metadata": {
        "id": "GGcZdrSEwfKw"
      },
      "source": [
        "I tried to answer the questions both theoriticaly and using code "
      ]
    },
    {
      "cell_type": "code",
      "metadata": {
        "colab": {
          "base_uri": "https://localhost:8080/"
        },
        "id": "tpuNYAvwub09",
        "outputId": "cbb27a7e-6171-42e1-d4b4-721d97d2be9b"
      },
      "source": [
        "#code for above questions \n",
        "iterations=[ 5,10,15,20]\n",
        "byaxis=[]\n",
        "bxaxis=[]\n",
        "for ii in iterations:\n",
        "  print('Average validation accuracy for',ii,'iteartions is', AverageAccuracy(alltraindata, alltrainlabel, 75/100, ii, classifier=NN))\n",
        "  testpred = NN(alltraindata, alltrainlabel, testdata)\n",
        "  print('test accuracy for ',ii,'iterations is ',Accuracy(testlabel, testpred) )\n",
        "  byaxis.append(Accuracy(testlabel, testpred))\n",
        "  bxaxis.append(ii)\n"
      ],
      "execution_count": null,
      "outputs": [
        {
          "output_type": "stream",
          "name": "stdout",
          "text": [
            "Average validation accuracy for 5 iteartions is 0.34456496466543135\n",
            "test accuracy for  5 iterations is  0.34917953667953666\n",
            "Average validation accuracy for 10 iteartions is 0.344392959413093\n",
            "test accuracy for  10 iterations is  0.34917953667953666\n",
            "Average validation accuracy for 15 iteartions is 0.34164938948438395\n",
            "test accuracy for  15 iterations is  0.34917953667953666\n",
            "Average validation accuracy for 20 iteartions is 0.3383505091909875\n",
            "test accuracy for  20 iterations is  0.34917953667953666\n"
          ]
        }
      ]
    },
    {
      "cell_type": "code",
      "metadata": {
        "colab": {
          "base_uri": "https://localhost:8080/",
          "height": 312
        },
        "id": "L4fO5K-cz-1j",
        "outputId": "869dc409-df71-492c-d281-14535ca8c368"
      },
      "source": [
        "plt.plot(bxaxis,byaxis)\n",
        "plt.xlabel(\"NO of iterations\")\n",
        "plt.ylabel(\"avg accuracy \")\n",
        "plt.title(\"accuracies with respect to iterations\")"
      ],
      "execution_count": null,
      "outputs": [
        {
          "output_type": "execute_result",
          "data": {
            "text/plain": [
              "Text(0.5, 1.0, 'accuracies with respect to iterations')"
            ]
          },
          "metadata": {},
          "execution_count": 55
        },
        {
          "output_type": "display_data",
          "data": {
            "image/png": "[encoded data removed]",
            "text/plain": [
              "<Figure size 432x288 with 1 Axes>"
            ]
          },
          "metadata": {
            "needs_background": "light"
          }
        }
      ]
    },
    {
      "cell_type": "markdown",
      "metadata": {
        "id": "ahs3cnUboZN1"
      },
      "source": [
        "**1 answer** : As we are averaging the accuracy across multiple splits  we get an avg point/value  to which any new test accuracy pouint/value will be close with less ammount of difference "
      ]
    },
    {
      "cell_type": "markdown",
      "metadata": {
        "id": "LeM17imAprDO"
      },
      "source": [
        "**2 answer**: Since the test data(20%) is completely different from the validation and training data (80(validation+training), 20(test)) .. accuracy of test data remains mostly constant even though on averaging the validation data across multiple splits "
      ]
    },
    {
      "cell_type": "markdown",
      "metadata": {
        "id": "wkgK_9-0rURl"
      },
      "source": [
        "**3 answer**: the more number of iterations the more specific the avg will be. it doesnt mean that the validation avg gets changed drastically on increasing the iterations but there will change in the right most decimal part mostly of the validation accuracy avg value  or other words we can say that the avg remains almost same/constant "
      ]
    },
    {
      "cell_type": "markdown",
      "metadata": {
        "id": "QpafdlQBs-i3"
      },
      "source": [
        "**4 answer** : The question is not clear for me so thought of answering in 2 cases . \n",
        "**case a**: if the answer has to be with respect to test data then small train/validation data set may lead to decrease in accuaracy of test data even we iterate the train and validation data multiple time as we know that the more training given the best the test accuracy will be \n",
        " **case b**:considering only training data/validation data not the test data. whatever the data set may be small or big .. increasing the iteration leads to improvement of validation accuaracy ( mostly right mostt decimal part ) or simple we can say that the accuracy remains constant "
      ]
    }
  ]
}